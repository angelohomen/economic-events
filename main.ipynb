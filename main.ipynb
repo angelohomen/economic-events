{
 "cells": [
  {
   "attachments": {},
   "cell_type": "markdown",
   "metadata": {},
   "source": [
    "# Imports"
   ]
  },
  {
   "cell_type": "code",
   "execution_count": null,
   "metadata": {},
   "outputs": [],
   "source": [
    "import warnings\n",
    "import datetime\n",
    "import pandas as pd\n",
    "import numpy as np\n",
    "import matplotlib.pyplot as plt\n",
    "from src.functions import CorrClass as cs\n",
    "import seaborn as sns\n",
    "from scipy.cluster.hierarchy import dendrogram, linkage\n",
    "warnings.filterwarnings('ignore')\n",
    "plt.rcParams['figure.figsize'] = 12,40\n",
    "\n",
    "cs = cs()"
   ]
  },
  {
   "attachments": {},
   "cell_type": "markdown",
   "metadata": {},
   "source": [
    "# Set rules"
   ]
  },
  {
   "cell_type": "code",
   "execution_count": null,
   "metadata": {},
   "outputs": [],
   "source": [
    "MIN_ADD = datetime.timedelta(seconds = 60)\n",
    "HOUR_ADD = 60 * MIN_ADD\n",
    "DAY_ADD = HOUR_ADD * 24 "
   ]
  },
  {
   "attachments": {},
   "cell_type": "markdown",
   "metadata": {},
   "source": [
    "# Get data"
   ]
  },
  {
   "cell_type": "code",
   "execution_count": null,
   "metadata": {},
   "outputs": [],
   "source": [
    "dfMarketData = pd.read_csv('WDODATA.csv','\\t')\n",
    "dfMarketData.columns = ['Date','Time','Open','High','Low','Close','TickVol','Vol','Spread']\n",
    "dfMarketData['Datetime'] = dfMarketData['Date'].str.replace('.','-') + ' ' + dfMarketData['Time']\n",
    "dfMarketData = dfMarketData[['Datetime','Open','High','Low','Close']]\n",
    "dfMarketData['Datetime'] = pd.to_datetime(dfMarketData['Datetime'])\n",
    "dfMarketData = dfMarketData.set_index('Datetime')\n",
    "dfMarketData = dfMarketData.sort_index()"
   ]
  },
  {
   "cell_type": "code",
   "execution_count": null,
   "metadata": {},
   "outputs": [],
   "source": [
    "dfEventsData = pd.read_csv('EventsData.csv')\n",
    "dfEventsFromTo = pd.read_csv('EventsFromTo.csv')\n",
    "dfEventsFromTo=dfEventsFromTo.set_index('EventID').T\n",
    "dfEventsData['ReleaseTime'] = pd.to_datetime(dfEventsData['ReleaseTime'])\n",
    "dfEventsData['PercentChng'] = dfEventsData['ActualValue']/dfEventsData['PreviousValue']-1\n",
    "dfEventsData['Date'] = dfEventsData['ReleaseTime'].apply(lambda x: datetime.datetime.strptime(str(x).split(' ')[0], '%Y-%m-%d'))\n",
    "dfEventsData = dfEventsData.loc[dfEventsData['ReleaseTime'] > min(dfMarketData.index),:]\n",
    "dfEventsData['ReleaseTime'] = pd.to_datetime(dfEventsData['ReleaseTime'])\n",
    "dfEventsData = dfEventsData.set_index('ReleaseTime')\n",
    "dfEventsData = dfEventsData.sort_index()"
   ]
  },
  {
   "attachments": {},
   "cell_type": "markdown",
   "metadata": {},
   "source": [
    "# Split train/test"
   ]
  },
  {
   "cell_type": "code",
   "execution_count": null,
   "metadata": {},
   "outputs": [],
   "source": [
    "dfEventsDataTrain=dfEventsData[dfEventsData.index<=datetime.datetime.combine(dfEventsData.iloc[int(.7*len(dfEventsData)),:]['Date'], datetime.datetime.min.time())]\n",
    "dfEventsDataTest=dfEventsData[dfEventsData.index>datetime.datetime.combine(dfEventsData.iloc[int(.7*len(dfEventsData)),:]['Date'], datetime.datetime.min.time())]\n",
    "dfMarketDataTrain=dfMarketData.loc[dfMarketData.index<datetime.datetime.combine(max(dfEventsDataTrain.index).date(), datetime.datetime.min.time())+DAY_ADD]\n",
    "dfMarketDataTest=dfMarketData[dfMarketData.index>=datetime.datetime.combine(max(dfMarketDataTrain.index).date(), datetime.datetime.min.time())]"
   ]
  },
  {
   "cell_type": "markdown",
   "metadata": {},
   "source": [
    "# Calculate variation after releases"
   ]
  },
  {
   "cell_type": "code",
   "execution_count": null,
   "metadata": {},
   "outputs": [],
   "source": [
    "def variationRatio(\n",
    "    dfEventsData,\n",
    "    dfMarketData\n",
    ") -> pd.DataFrame():\n",
    "    df = pd.DataFrame()\n",
    "    for idx, release in dfEventsData.iterrows():\n",
    "        mktdata_on_release = idx\n",
    "        mktdata_after_release = mktdata_on_release + MIN_ADD * 5\n",
    "        mktdata_pre_release = mktdata_on_release - MIN_ADD * 5\n",
    "        df_mktdata_release = dfMarketData[(dfMarketData.index >= mktdata_on_release) & (dfMarketData.index <= mktdata_after_release)]\n",
    "        df_mktdata_pre_release = dfMarketData[(dfMarketData.index <= mktdata_on_release) & (dfMarketData.index >= mktdata_pre_release)]\n",
    "        if not df_mktdata_release.empty and not df_mktdata_pre_release.empty:\n",
    "            release_price = -1\n",
    "            try:\n",
    "                release_price = df_mktdata_release['Open'][mktdata_on_release]\n",
    "            except:\n",
    "                try:\n",
    "                    release_price = df_mktdata_release['Close'][mktdata_on_release - MIN_ADD]\n",
    "                except:\n",
    "                    continue\n",
    "            variation_after_release = max(abs(release_price-max(df_mktdata_release['High'])),abs(release_price-min(df_mktdata_release['Low'])))\n",
    "            variation_pre_release = max(abs(release_price-max(df_mktdata_pre_release['High'])),abs(release_price-min(df_mktdata_pre_release['Low'])))\n",
    "            variation_diff = variation_after_release/variation_pre_release-1\n",
    "            df = df.append(\n",
    "                {\n",
    "                    'EventID': dfEventsFromTo[int(release['EventID'])]['EventName'],\n",
    "                    'Ratio': variation_diff\n",
    "                }, ignore_index=True \n",
    "            )\n",
    "    dict_data = {}\n",
    "    for idx, data in df.iterrows():\n",
    "        if data['EventID'] in dict_data.keys():\n",
    "            dict_data[data['EventID']].append(data['Ratio'])\n",
    "        else:\n",
    "            dict_data[data['EventID']]=[data['Ratio']]\n",
    "    df = pd.DataFrame.from_dict(dict_data, orient='index')\n",
    "    df = df.transpose()\n",
    "    return df"
   ]
  },
  {
   "cell_type": "code",
   "execution_count": null,
   "metadata": {},
   "outputs": [],
   "source": [
    "dfTrain = variationRatio(dfEventsData=dfEventsDataTrain,dfMarketData=dfMarketDataTrain)\n",
    "cs.plot_heatmap_densogram(dfTrain)"
   ]
  },
  {
   "cell_type": "code",
   "execution_count": null,
   "metadata": {},
   "outputs": [],
   "source": [
    "dfTrainDenoised = cs.cov2corr(cs.cleanMatrix(dfTrain))\n",
    "cs.plot_heatmap_densogram(dfTrainDenoised)"
   ]
  },
  {
   "cell_type": "code",
   "execution_count": null,
   "metadata": {},
   "outputs": [],
   "source": [
    "dfTrainDetoned = cs.cov2corr(cs.detonMatrix(dfTrain))\n",
    "cs.plot_heatmap_densogram(dfTrainDetoned)"
   ]
  },
  {
   "cell_type": "code",
   "execution_count": null,
   "metadata": {},
   "outputs": [],
   "source": []
  }
 ],
 "metadata": {
  "kernelspec": {
   "display_name": "Python 3.9.7 ('base')",
   "language": "python",
   "name": "python3"
  },
  "language_info": {
   "codemirror_mode": {
    "name": "ipython",
    "version": 3
   },
   "file_extension": ".py",
   "mimetype": "text/x-python",
   "name": "python",
   "nbconvert_exporter": "python",
   "pygments_lexer": "ipython3",
   "version": "3.9.7"
  },
  "orig_nbformat": 4,
  "vscode": {
   "interpreter": {
    "hash": "f08154012ddadd8e950e6e9e035c7a7b32c136e7647e9b7c77e02eb723a8bedb"
   }
  }
 },
 "nbformat": 4,
 "nbformat_minor": 2
}
